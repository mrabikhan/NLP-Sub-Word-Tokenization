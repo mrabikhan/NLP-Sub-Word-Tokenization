{
 "cells": [
  {
   "cell_type": "code",
   "execution_count": 1,
   "id": "2c02a952-569d-4723-a765-39dd557aca8b",
   "metadata": {},
   "outputs": [
    {
     "data": {
      "text/html": [
       "<div>\n",
       "<style scoped>\n",
       "    .dataframe tbody tr th:only-of-type {\n",
       "        vertical-align: middle;\n",
       "    }\n",
       "\n",
       "    .dataframe tbody tr th {\n",
       "        vertical-align: top;\n",
       "    }\n",
       "\n",
       "    .dataframe thead th {\n",
       "        text-align: right;\n",
       "    }\n",
       "</style>\n",
       "<table border=\"1\" class=\"dataframe\">\n",
       "  <thead>\n",
       "    <tr style=\"text-align: right;\">\n",
       "      <th></th>\n",
       "      <th>قومی\\t وزیراعظم عمران خان نے کل ایسی جگہ جانے کا فیصلہ کر لیا کہ اپوزیشن رہنما بھی دنگ</th>\n",
       "    </tr>\n",
       "  </thead>\n",
       "  <tbody>\n",
       "    <tr>\n",
       "      <th>0</th>\n",
       "      <td>قومی\\t پاکستان کا یمن کے معاملے پر موثر کردار ...</td>\n",
       "    </tr>\n",
       "    <tr>\n",
       "      <th>1</th>\n",
       "      <td>قومی\\t سابق وزیراعظم یوسف رضاگیلانی کے بھانجے ...</td>\n",
       "    </tr>\n",
       "    <tr>\n",
       "      <th>2</th>\n",
       "      <td>قومی\\t علیم خان کی جائیدادیں ملک سے باہر ، تفص...</td>\n",
       "    </tr>\n",
       "    <tr>\n",
       "      <th>3</th>\n",
       "      <td>قومی\\t سرکاری افسر اکرام نوید نے50کروڑ چرائے ا...</td>\n",
       "    </tr>\n",
       "    <tr>\n",
       "      <th>4</th>\n",
       "      <td>قومی\\t وزیراعظم عمران خان نے ملک کی صورتحال می...</td>\n",
       "    </tr>\n",
       "  </tbody>\n",
       "</table>\n",
       "</div>"
      ],
      "text/plain": [
       "  قومی\\t وزیراعظم عمران خان نے کل ایسی جگہ جانے کا فیصلہ کر لیا کہ اپوزیشن رہنما بھی دنگ  \n",
       "0  قومی\\t پاکستان کا یمن کے معاملے پر موثر کردار ...                                      \n",
       "1  قومی\\t سابق وزیراعظم یوسف رضاگیلانی کے بھانجے ...                                      \n",
       "2  قومی\\t علیم خان کی جائیدادیں ملک سے باہر ، تفص...                                      \n",
       "3  قومی\\t سرکاری افسر اکرام نوید نے50کروڑ چرائے ا...                                      \n",
       "4  قومی\\t وزیراعظم عمران خان نے ملک کی صورتحال می...                                      "
      ]
     },
     "execution_count": 1,
     "metadata": {},
     "output_type": "execute_result"
    }
   ],
   "source": [
    "import pandas as pd\n",
    "df = pd.read_csv(\"Downloads/archive/UrduNewsHeadlines.csv\", encoding='utf-8')\n",
    "df.head()"
   ]
  },
  {
   "cell_type": "code",
   "execution_count": 7,
   "id": "59db44f4-3b8b-4428-9d69-6dba14a6d90c",
   "metadata": {},
   "outputs": [],
   "source": [
    "#Model Training:\n",
    "#Read your cleaned Urdu paragraph file:\n",
    "from tokenizers import Tokenizer, models, pre_tokenizers, trainers, normalizers\n",
    "with open(\"urdu_paragraph_cleaned.txt\", \"r\", encoding=\"utf-8\") as f:\n",
    "    lines = f.readlines()\n",
    "    \n",
    "#Define a WordPiece tokenizer\n",
    "wordpiece_tokenizer = Tokenizer(models.WordPiece(unk_token=\"[UNK]\"))\n",
    "wordpiece_tokenizer.normalizer = normalizers.NFKC() \n",
    "wordpiece_tokenizer.pre_tokenizer = pre_tokenizers.Whitespace()    \n",
    "\n",
    "#Define a trainer for WordPiece\n",
    "wp_trainer = trainers.WordPieceTrainer(\n",
    "    vocab_size=2215,\n",
    "    special_tokens=[\"[UNK]\", \"[PAD]\", \"[CLS]\", \"[SEP]\", \"[MASK]\"]\n",
    ")\n",
    "\n",
    "#Train the tokenizer on your dataset (list of text lines)\n",
    "wordpiece_tokenizer.train_from_iterator(lines, trainer=wp_trainer)\n",
    "\n",
    "#Save the trained WordPiece tokenizer model\n",
    "wordpiece_tokenizer.save(\"urdu_wordpiece.json\")\n"
   ]
  },
  {
   "cell_type": "code",
   "execution_count": 11,
   "id": "c7265370-70e3-443a-bf92-df4bf899a76a",
   "metadata": {},
   "outputs": [
    {
     "name": "stdout",
     "output_type": "stream",
     "text": [
      "WordPiece Tokens: ['وزیراعظم', 'نے', 'آج', 'قوم', 'سے', 'خط', '##اب', 'کیا', '۔']\n"
     ]
    }
   ],
   "source": [
    "#Let's test our trained model using a sample text:\n",
    "sample_text = \"وزیراعظم نے آج قوم سے خطاب کیا۔\"\n",
    "encoded = wordpiece_tokenizer.encode(sample_text)\n",
    "print(\"WordPiece Tokens:\", encoded.tokens)"
   ]
  },
  {
   "cell_type": "code",
   "execution_count": null,
   "id": "896d149e-3112-43ef-a0d9-c6097568e3e8",
   "metadata": {},
   "outputs": [],
   "source": []
  }
 ],
 "metadata": {
  "kernelspec": {
   "display_name": "Python 3 (ipykernel)",
   "language": "python",
   "name": "python3"
  },
  "language_info": {
   "codemirror_mode": {
    "name": "ipython",
    "version": 3
   },
   "file_extension": ".py",
   "mimetype": "text/x-python",
   "name": "python",
   "nbconvert_exporter": "python",
   "pygments_lexer": "ipython3",
   "version": "3.12.4"
  }
 },
 "nbformat": 4,
 "nbformat_minor": 5
}
